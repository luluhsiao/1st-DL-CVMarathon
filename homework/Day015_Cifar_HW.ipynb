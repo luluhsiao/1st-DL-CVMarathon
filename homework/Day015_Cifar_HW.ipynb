{
 "cells": [
  {
   "cell_type": "markdown",
   "metadata": {},
   "source": [
    "## 『本次練習內容』\n",
    "#### 運用這幾天所學觀念搭建一個CNN分類器"
   ]
  },
  {
   "cell_type": "markdown",
   "metadata": {},
   "source": [
    "## 『本次練習目的』\n",
    "  #### 熟悉CNN分類器搭建步驟與原理\n",
    "  #### 學員們可以嘗試不同搭法，如使用不同的Maxpooling層，用GlobalAveragePooling取代Flatten等等"
   ]
  },
  {
   "cell_type": "code",
   "execution_count": 1,
   "metadata": {},
   "outputs": [
    {
     "name": "stderr",
     "output_type": "stream",
     "text": [
      "Using TensorFlow backend.\n"
     ]
    }
   ],
   "source": [
    "from keras.models import Sequential\n",
    "from keras.layers import Convolution2D\n",
    "from keras.layers import MaxPooling2D\n",
    "from keras.layers import Flatten\n",
    "from keras.layers import Dense\n",
    "from keras.layers import Dropout\n",
    "from keras.layers import BatchNormalization\n",
    "from keras.datasets import cifar10\n",
    "import numpy as np\n",
    "import tensorflow as tf\n",
    "from sklearn.preprocessing import OneHotEncoder\n"
   ]
  },
  {
   "cell_type": "code",
   "execution_count": 2,
   "metadata": {},
   "outputs": [
    {
     "name": "stdout",
     "output_type": "stream",
     "text": [
      "(50000, 32, 32, 3)\n"
     ]
    }
   ],
   "source": [
    "(x_train, y_train), (x_test, y_test) = cifar10.load_data()\n",
    "\n",
    "print(x_train.shape) #(50000, 32, 32, 3)\n",
    "\n",
    "## Normalize Data\n",
    "def normalize(X_train,X_test):\n",
    "        mean = np.mean(X_train,axis=(0,1,2,3))\n",
    "        std = np.std(X_train, axis=(0, 1, 2, 3))\n",
    "        X_train = (X_train-mean)/(std+1e-7)\n",
    "        X_test = (X_test-mean)/(std+1e-7) \n",
    "        return X_train, X_test,mean,std\n",
    "    \n",
    "    \n",
    "## Normalize Training and Testset    \n",
    "x_train, x_test,mean_train,std_train = normalize(x_train, x_test) "
   ]
  },
  {
   "cell_type": "code",
   "execution_count": 3,
   "metadata": {},
   "outputs": [
    {
     "name": "stderr",
     "output_type": "stream",
     "text": [
      "C:\\Users\\g-yongruhsiao\\AppData\\Local\\Continuum\\anaconda3\\lib\\site-packages\\sklearn\\preprocessing\\_encoders.py:371: FutureWarning: The handling of integer data will change in version 0.22. Currently, the categories are determined based on the range [0, max(values)], while in the future they will be determined based on the unique values.\n",
      "If you want the future behaviour and silence this warning, you can specify \"categories='auto'\".\n",
      "In case you used a LabelEncoder before this OneHotEncoder to convert the categories to integers, then you can now use the OneHotEncoder directly.\n",
      "  warnings.warn(msg, FutureWarning)\n"
     ]
    }
   ],
   "source": [
    "## OneHot Label 由(None, 1)-(None, 10)\n",
    "## ex. label=2,變成[0,0,1,0,0,0,0,0,0,0]\n",
    "one_hot=OneHotEncoder()\n",
    "y_train=one_hot.fit_transform(y_train).toarray()\n",
    "y_test=one_hot.transform(y_test).toarray()"
   ]
  },
  {
   "cell_type": "code",
   "execution_count": 4,
   "metadata": {},
   "outputs": [
    {
     "name": "stderr",
     "output_type": "stream",
     "text": [
      "WARNING: Logging before flag parsing goes to stderr.\n",
      "W0315 23:54:10.067463 14776 deprecation_wrapper.py:119] From C:\\Users\\g-yongruhsiao\\AppData\\Local\\Continuum\\anaconda3\\lib\\site-packages\\keras\\backend\\tensorflow_backend.py:74: The name tf.get_default_graph is deprecated. Please use tf.compat.v1.get_default_graph instead.\n",
      "\n",
      "W0315 23:54:10.157451 14776 deprecation_wrapper.py:119] From C:\\Users\\g-yongruhsiao\\AppData\\Local\\Continuum\\anaconda3\\lib\\site-packages\\keras\\backend\\tensorflow_backend.py:517: The name tf.placeholder is deprecated. Please use tf.compat.v1.placeholder instead.\n",
      "\n",
      "W0315 23:54:10.187488 14776 deprecation_wrapper.py:119] From C:\\Users\\g-yongruhsiao\\AppData\\Local\\Continuum\\anaconda3\\lib\\site-packages\\keras\\backend\\tensorflow_backend.py:4138: The name tf.random_uniform is deprecated. Please use tf.random.uniform instead.\n",
      "\n",
      "W0315 23:54:10.264489 14776 deprecation_wrapper.py:119] From C:\\Users\\g-yongruhsiao\\AppData\\Local\\Continuum\\anaconda3\\lib\\site-packages\\keras\\backend\\tensorflow_backend.py:174: The name tf.get_default_session is deprecated. Please use tf.compat.v1.get_default_session instead.\n",
      "\n",
      "W0315 23:54:10.265489 14776 deprecation_wrapper.py:119] From C:\\Users\\g-yongruhsiao\\AppData\\Local\\Continuum\\anaconda3\\lib\\site-packages\\keras\\backend\\tensorflow_backend.py:181: The name tf.ConfigProto is deprecated. Please use tf.compat.v1.ConfigProto instead.\n",
      "\n",
      "W0315 23:54:10.396456 14776 deprecation_wrapper.py:119] From C:\\Users\\g-yongruhsiao\\AppData\\Local\\Continuum\\anaconda3\\lib\\site-packages\\keras\\backend\\tensorflow_backend.py:1834: The name tf.nn.fused_batch_norm is deprecated. Please use tf.compat.v1.nn.fused_batch_norm instead.\n",
      "\n",
      "W0315 23:54:10.529453 14776 deprecation_wrapper.py:119] From C:\\Users\\g-yongruhsiao\\AppData\\Local\\Continuum\\anaconda3\\lib\\site-packages\\keras\\backend\\tensorflow_backend.py:3976: The name tf.nn.max_pool is deprecated. Please use tf.nn.max_pool2d instead.\n",
      "\n",
      "C:\\Users\\g-yongruhsiao\\AppData\\Local\\Continuum\\anaconda3\\lib\\site-packages\\ipykernel_launcher.py:20: UserWarning: Update your `Dense` call to the Keras 2 API: `Dense(activation=\"relu\", units=100)`\n",
      "C:\\Users\\g-yongruhsiao\\AppData\\Local\\Continuum\\anaconda3\\lib\\site-packages\\ipykernel_launcher.py:23: UserWarning: Update your `Dense` call to the Keras 2 API: `Dense(activation=\"relu\", units=10)`\n",
      "W0315 23:54:10.705492 14776 deprecation_wrapper.py:119] From C:\\Users\\g-yongruhsiao\\AppData\\Local\\Continuum\\anaconda3\\lib\\site-packages\\keras\\optimizers.py:790: The name tf.train.Optimizer is deprecated. Please use tf.compat.v1.train.Optimizer instead.\n",
      "\n",
      "W0315 23:54:10.926497 14776 deprecation.py:323] From C:\\Users\\g-yongruhsiao\\AppData\\Local\\Continuum\\anaconda3\\lib\\site-packages\\tensorflow\\python\\ops\\math_grad.py:1250: add_dispatch_support.<locals>.wrapper (from tensorflow.python.ops.array_ops) is deprecated and will be removed in a future version.\n",
      "Instructions for updating:\n",
      "Use tf.where in 2.0, which has the same broadcast rule as np.where\n"
     ]
    },
    {
     "name": "stdout",
     "output_type": "stream",
     "text": [
      "Epoch 1/100\n",
      "50000/50000 [==============================] - 73s 1ms/step - loss: 2.4681 - acc: 0.3041\n",
      "Epoch 2/100\n",
      "50000/50000 [==============================] - 63s 1ms/step - loss: 1.8913 - acc: 0.3790\n",
      "Epoch 3/100\n",
      "50000/50000 [==============================] - 64s 1ms/step - loss: 1.7982 - acc: 0.4035\n",
      "Epoch 4/100\n",
      "50000/50000 [==============================] - 63s 1ms/step - loss: 1.7800 - acc: 0.4057\n",
      "Epoch 5/100\n",
      "50000/50000 [==============================] - 64s 1ms/step - loss: 1.8208 - acc: 0.3891\n",
      "Epoch 6/100\n",
      "50000/50000 [==============================] - 63s 1ms/step - loss: 1.7714 - acc: 0.3852\n",
      "Epoch 7/100\n",
      "50000/50000 [==============================] - 63s 1ms/step - loss: 1.6793 - acc: 0.4466\n",
      "Epoch 8/100\n",
      "50000/50000 [==============================] - 64s 1ms/step - loss: 1.6256 - acc: 0.4751\n",
      "Epoch 9/100\n",
      "50000/50000 [==============================] - 63s 1ms/step - loss: 1.6409 - acc: 0.4708\n",
      "Epoch 10/100\n",
      "50000/50000 [==============================] - 64s 1ms/step - loss: 1.5724 - acc: 0.4935\n",
      "Epoch 11/100\n",
      "50000/50000 [==============================] - 63s 1ms/step - loss: 1.9608 - acc: 0.3732\n",
      "Epoch 12/100\n",
      "50000/50000 [==============================] - 64s 1ms/step - loss: 2.0249 - acc: 0.2793\n",
      "Epoch 13/100\n",
      "50000/50000 [==============================] - 63s 1ms/step - loss: 1.8878 - acc: 0.3567\n",
      "Epoch 14/100\n",
      "50000/50000 [==============================] - 63s 1ms/step - loss: 1.8625 - acc: 0.3729\n",
      "Epoch 15/100\n",
      "50000/50000 [==============================] - 65s 1ms/step - loss: 1.7549 - acc: 0.4129\n",
      "Epoch 16/100\n",
      "50000/50000 [==============================] - 64s 1ms/step - loss: 1.6750 - acc: 0.4540\n",
      "Epoch 17/100\n",
      "50000/50000 [==============================] - 64s 1ms/step - loss: 1.6093 - acc: 0.4809\n",
      "Epoch 18/100\n",
      "50000/50000 [==============================] - 70s 1ms/step - loss: 1.6395 - acc: 0.4633\n",
      "Epoch 19/100\n",
      "50000/50000 [==============================] - 64s 1ms/step - loss: 1.5924 - acc: 0.4899\n",
      "Epoch 20/100\n",
      "50000/50000 [==============================] - 64s 1ms/step - loss: 1.5512 - acc: 0.5091\n",
      "Epoch 21/100\n",
      "50000/50000 [==============================] - 64s 1ms/step - loss: 1.6175 - acc: 0.4883\n",
      "Epoch 22/100\n",
      "50000/50000 [==============================] - 64s 1ms/step - loss: 1.7592 - acc: 0.3858\n",
      "Epoch 23/100\n",
      "50000/50000 [==============================] - 67s 1ms/step - loss: 1.5701 - acc: 0.4679\n",
      "Epoch 24/100\n",
      "50000/50000 [==============================] - 61s 1ms/step - loss: 1.6542 - acc: 0.4495\n",
      "Epoch 25/100\n",
      "50000/50000 [==============================] - 61s 1ms/step - loss: 1.5632 - acc: 0.4829\n",
      "Epoch 26/100\n",
      "50000/50000 [==============================] - 61s 1ms/step - loss: 1.4828 - acc: 0.5148\n",
      "Epoch 27/100\n",
      "50000/50000 [==============================] - 65s 1ms/step - loss: 1.4857 - acc: 0.5166\n",
      "Epoch 28/100\n",
      "50000/50000 [==============================] - 65s 1ms/step - loss: 1.4413 - acc: 0.5282\n",
      "Epoch 29/100\n",
      "50000/50000 [==============================] - 64s 1ms/step - loss: 1.6428 - acc: 0.4532\n",
      "Epoch 30/100\n",
      "50000/50000 [==============================] - 64s 1ms/step - loss: 1.5258 - acc: 0.4907\n",
      "Epoch 31/100\n",
      "50000/50000 [==============================] - 63s 1ms/step - loss: 1.4650 - acc: 0.5226\n",
      "Epoch 32/100\n",
      "50000/50000 [==============================] - 63s 1ms/step - loss: 1.4481 - acc: 0.5304\n",
      "Epoch 33/100\n",
      "50000/50000 [==============================] - 64s 1ms/step - loss: 1.4668 - acc: 0.5226\n",
      "Epoch 34/100\n",
      "50000/50000 [==============================] - 65s 1ms/step - loss: 1.4212 - acc: 0.5335\n",
      "Epoch 35/100\n",
      "50000/50000 [==============================] - 64s 1ms/step - loss: 1.3717 - acc: 0.5495\n",
      "Epoch 36/100\n",
      "50000/50000 [==============================] - 64s 1ms/step - loss: 1.4468 - acc: 0.5368\n",
      "Epoch 37/100\n",
      "50000/50000 [==============================] - 64s 1ms/step - loss: 1.4177 - acc: 0.5383\n",
      "Epoch 38/100\n",
      "50000/50000 [==============================] - 73s 1ms/step - loss: 1.3243 - acc: 0.5724\n",
      "Epoch 39/100\n",
      "50000/50000 [==============================] - 75s 1ms/step - loss: 1.7156 - acc: 0.4562\n",
      "Epoch 40/100\n",
      "50000/50000 [==============================] - 62s 1ms/step - loss: 1.5513 - acc: 0.4867\n",
      "Epoch 41/100\n",
      "50000/50000 [==============================] - 61s 1ms/step - loss: 1.4627 - acc: 0.5325\n",
      "Epoch 42/100\n",
      "50000/50000 [==============================] - 62s 1ms/step - loss: 1.4822 - acc: 0.5296\n",
      "Epoch 43/100\n",
      "50000/50000 [==============================] - 61s 1ms/step - loss: 1.4651 - acc: 0.5157\n",
      "Epoch 44/100\n",
      "50000/50000 [==============================] - 61s 1ms/step - loss: 1.4398 - acc: 0.5233\n",
      "Epoch 45/100\n",
      "50000/50000 [==============================] - 61s 1ms/step - loss: 1.3949 - acc: 0.5501\n",
      "Epoch 46/100\n",
      "50000/50000 [==============================] - 61s 1ms/step - loss: 1.4745 - acc: 0.5280\n",
      "Epoch 47/100\n",
      "50000/50000 [==============================] - 61s 1ms/step - loss: 1.6805 - acc: 0.4517\n",
      "Epoch 48/100\n",
      "50000/50000 [==============================] - 61s 1ms/step - loss: 1.5941 - acc: 0.4712\n",
      "Epoch 49/100\n",
      "50000/50000 [==============================] - 61s 1ms/step - loss: 1.5391 - acc: 0.5051\n",
      "Epoch 50/100\n",
      "50000/50000 [==============================] - 61s 1ms/step - loss: 1.4685 - acc: 0.5196\n",
      "Epoch 51/100\n",
      "50000/50000 [==============================] - 61s 1ms/step - loss: 1.4443 - acc: 0.5289\n",
      "Epoch 52/100\n",
      "50000/50000 [==============================] - 61s 1ms/step - loss: 1.4261 - acc: 0.5328\n",
      "Epoch 53/100\n",
      "50000/50000 [==============================] - 61s 1ms/step - loss: 1.4058 - acc: 0.5463\n",
      "Epoch 54/100\n",
      "50000/50000 [==============================] - 61s 1ms/step - loss: 1.3960 - acc: 0.5498\n",
      "Epoch 55/100\n",
      "50000/50000 [==============================] - 61s 1ms/step - loss: 1.4010 - acc: 0.5456\n",
      "Epoch 56/100\n",
      "50000/50000 [==============================] - 61s 1ms/step - loss: 1.3482 - acc: 0.5668\n",
      "Epoch 57/100\n",
      "50000/50000 [==============================] - 62s 1ms/step - loss: 1.3223 - acc: 0.5729\n",
      "Epoch 58/100\n",
      "50000/50000 [==============================] - 65s 1ms/step - loss: 1.2974 - acc: 0.5798\n",
      "Epoch 59/100\n",
      "50000/50000 [==============================] - 61s 1ms/step - loss: 1.2811 - acc: 0.5831\n",
      "Epoch 60/100\n",
      "50000/50000 [==============================] - 66s 1ms/step - loss: 1.2962 - acc: 0.5788\n",
      "Epoch 61/100\n",
      "50000/50000 [==============================] - 67s 1ms/step - loss: 1.2550 - acc: 0.5854\n",
      "Epoch 62/100\n",
      "50000/50000 [==============================] - 62s 1ms/step - loss: 1.3951 - acc: 0.5556\n",
      "Epoch 63/100\n",
      "50000/50000 [==============================] - 62s 1ms/step - loss: 1.3389 - acc: 0.5676\n",
      "Epoch 64/100\n",
      "50000/50000 [==============================] - 62s 1ms/step - loss: 1.2644 - acc: 0.5923\n",
      "Epoch 65/100\n",
      "50000/50000 [==============================] - 62s 1ms/step - loss: 1.2317 - acc: 0.6016\n",
      "Epoch 66/100\n",
      "50000/50000 [==============================] - 61s 1ms/step - loss: 1.4066 - acc: 0.5523\n",
      "Epoch 67/100\n",
      "50000/50000 [==============================] - 61s 1ms/step - loss: 1.3400 - acc: 0.5574\n",
      "Epoch 68/100\n",
      "50000/50000 [==============================] - 62s 1ms/step - loss: 1.2823 - acc: 0.5704\n",
      "Epoch 69/100\n",
      "50000/50000 [==============================] - 70s 1ms/step - loss: 1.7613 - acc: 0.4542\n",
      "Epoch 70/100\n",
      "50000/50000 [==============================] - 62s 1ms/step - loss: 1.4317 - acc: 0.5341\n",
      "Epoch 71/100\n",
      "50000/50000 [==============================] - 65s 1ms/step - loss: 1.3368 - acc: 0.5619\n",
      "Epoch 72/100\n",
      "50000/50000 [==============================] - 65s 1ms/step - loss: 1.2807 - acc: 0.5798\n",
      "Epoch 73/100\n",
      "50000/50000 [==============================] - 64s 1ms/step - loss: 1.2407 - acc: 0.5965\n",
      "Epoch 74/100\n",
      "50000/50000 [==============================] - 64s 1ms/step - loss: 1.2338 - acc: 0.5933\n",
      "Epoch 75/100\n",
      "50000/50000 [==============================] - 64s 1ms/step - loss: 1.2392 - acc: 0.5909\n",
      "Epoch 76/100\n",
      "50000/50000 [==============================] - 65s 1ms/step - loss: 1.1986 - acc: 0.5997\n",
      "Epoch 77/100\n",
      "50000/50000 [==============================] - 65s 1ms/step - loss: 1.1617 - acc: 0.6160\n",
      "Epoch 78/100\n",
      "50000/50000 [==============================] - 65s 1ms/step - loss: 1.4030 - acc: 0.5452\n",
      "Epoch 79/100\n",
      "50000/50000 [==============================] - 65s 1ms/step - loss: 1.3696 - acc: 0.5477\n",
      "Epoch 80/100\n",
      "50000/50000 [==============================] - 65s 1ms/step - loss: 1.3646 - acc: 0.5594\n",
      "Epoch 81/100\n"
     ]
    },
    {
     "name": "stdout",
     "output_type": "stream",
     "text": [
      "50000/50000 [==============================] - 64s 1ms/step - loss: 1.6608 - acc: 0.4733\n",
      "Epoch 82/100\n",
      "50000/50000 [==============================] - 63s 1ms/step - loss: 1.5564 - acc: 0.4735\n",
      "Epoch 83/100\n",
      "50000/50000 [==============================] - 62s 1ms/step - loss: 1.5117 - acc: 0.4944\n",
      "Epoch 84/100\n",
      "50000/50000 [==============================] - 61s 1ms/step - loss: 1.4423 - acc: 0.5233\n",
      "Epoch 85/100\n",
      "50000/50000 [==============================] - 61s 1ms/step - loss: 1.3615 - acc: 0.5502\n",
      "Epoch 86/100\n",
      "50000/50000 [==============================] - 61s 1ms/step - loss: 1.3410 - acc: 0.5610\n",
      "Epoch 87/100\n",
      "50000/50000 [==============================] - 62s 1ms/step - loss: 1.3192 - acc: 0.5681\n",
      "Epoch 88/100\n",
      "50000/50000 [==============================] - 63s 1ms/step - loss: 1.3195 - acc: 0.5639\n",
      "Epoch 89/100\n",
      "50000/50000 [==============================] - 64s 1ms/step - loss: 1.3463 - acc: 0.5675\n",
      "Epoch 90/100\n",
      "50000/50000 [==============================] - 68s 1ms/step - loss: 1.3301 - acc: 0.5648\n",
      "Epoch 91/100\n",
      "50000/50000 [==============================] - 67s 1ms/step - loss: 1.3050 - acc: 0.5748\n",
      "Epoch 92/100\n",
      "50000/50000 [==============================] - 62s 1ms/step - loss: 1.2711 - acc: 0.5829\n",
      "Epoch 93/100\n",
      "50000/50000 [==============================] - 61s 1ms/step - loss: 1.2117 - acc: 0.6019\n",
      "Epoch 94/100\n",
      "50000/50000 [==============================] - 61s 1ms/step - loss: 1.1652 - acc: 0.6163\n",
      "Epoch 95/100\n",
      "50000/50000 [==============================] - 61s 1ms/step - loss: 1.1448 - acc: 0.6269\n",
      "Epoch 96/100\n",
      "50000/50000 [==============================] - 61s 1ms/step - loss: 1.1198 - acc: 0.6311\n",
      "Epoch 97/100\n",
      "50000/50000 [==============================] - 61s 1ms/step - loss: 1.1029 - acc: 0.6379\n",
      "Epoch 98/100\n",
      "50000/50000 [==============================] - 62s 1ms/step - loss: 1.4706 - acc: 0.5132\n",
      "Epoch 99/100\n",
      "50000/50000 [==============================] - 61s 1ms/step - loss: 1.5504 - acc: 0.4538\n",
      "Epoch 100/100\n",
      "50000/50000 [==============================] - 61s 1ms/step - loss: 1.4066 - acc: 0.5282\n"
     ]
    },
    {
     "data": {
      "text/plain": [
       "<keras.callbacks.History at 0x1d6bce6feb8>"
      ]
     },
     "execution_count": 4,
     "metadata": {},
     "output_type": "execute_result"
    }
   ],
   "source": [
    "\n",
    "classifier=Sequential()\n",
    "\n",
    "#卷積組合\n",
    "input_shape = (32, 32, 3)\n",
    "classifier.add(Convolution2D(32, kernel_size=(3, 3), padding='same',input_shape=input_shape,activation='relu'))#32,3,3,input_shape=(32,32,3),activation='relu''\n",
    "classifier.add(BatchNormalization())\n",
    "\n",
    "'''自己決定MaxPooling2D放在哪裡'''\n",
    "classifier.add(MaxPooling2D(pool_size=(2,2)))\n",
    "\n",
    "#卷積組合\n",
    "classifier.add(Convolution2D(64, kernel_size=(3, 3), padding='same'))\n",
    "classifier.add(BatchNormalization())\n",
    "\n",
    "#flatten\n",
    "classifier.add(Flatten())\n",
    "\n",
    "#FC\n",
    "classifier.add(Dense(output_dim=100,activation='relu')) #output_dim=100,activation=relu\n",
    "\n",
    "#輸出\n",
    "classifier.add(Dense(output_dim=10,activation='relu'))\n",
    "\n",
    "#超過兩個就要選categorical_crossentrophy\n",
    "classifier.compile(optimizer = 'adam', loss = 'categorical_crossentropy', metrics = ['accuracy'])\n",
    "classifier.fit(x_train,y_train,batch_size=100,epochs=100)"
   ]
  },
  {
   "cell_type": "markdown",
   "metadata": {},
   "source": [
    "## 預測新圖片，輸入影像前處理要與訓練時相同\n",
    "#### ((X-mean)/(std+1e-7) ):這裡的mean跟std是訓練集的\n",
    "## 維度如下方示範"
   ]
  },
  {
   "cell_type": "code",
   "execution_count": 5,
   "metadata": {},
   "outputs": [
    {
     "data": {
      "text/plain": [
       "array([[1603.9526 , 1022.0201 , 2280.5962 , 2252.9287 ,  562.1542 ,\n",
       "         391.45526, 2163.9468 ,  687.1003 , 2125.3474 ,   -0.     ]],\n",
       "      dtype=float32)"
      ]
     },
     "execution_count": 5,
     "metadata": {},
     "output_type": "execute_result"
    }
   ],
   "source": [
    "input_example=(np.zeros(shape=(1,32,32,3))-mean_train)/(std_train+1e-7) \n",
    "classifier.predict(input_example)"
   ]
  },
  {
   "cell_type": "code",
   "execution_count": null,
   "metadata": {},
   "outputs": [],
   "source": []
  }
 ],
 "metadata": {
  "kernelspec": {
   "display_name": "Python 3",
   "language": "python",
   "name": "python3"
  },
  "language_info": {
   "codemirror_mode": {
    "name": "ipython",
    "version": 3
   },
   "file_extension": ".py",
   "mimetype": "text/x-python",
   "name": "python",
   "nbconvert_exporter": "python",
   "pygments_lexer": "ipython3",
   "version": "3.7.3"
  }
 },
 "nbformat": 4,
 "nbformat_minor": 2
}
